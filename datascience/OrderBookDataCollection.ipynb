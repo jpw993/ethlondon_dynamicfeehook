{
 "cells": [
  {
   "cell_type": "markdown",
   "id": "12359c56-872b-4429-87ec-4aef279546ea",
   "metadata": {},
   "source": [
    "Order Book Data Collection\n",
    "\n",
    "Currently there isn't a source of free spot order book data. We need a sample in order to get a sense of what the order book looks like to best calibrate our fee pricing"
   ]
  },
  {
   "cell_type": "code",
   "execution_count": 5,
   "id": "b70d8f08-8da9-4052-aa93-96a8e8bec263",
   "metadata": {},
   "outputs": [],
   "source": [
    "import requests\n",
    "import datetime as dt\n",
    "import csv\n",
    "import time"
   ]
  },
  {
   "cell_type": "code",
   "execution_count": 62,
   "id": "df9c7623-f939-4823-b5e6-ee04b26b0915",
   "metadata": {},
   "outputs": [],
   "source": [
    "URL = 'https://api.kraken.com/0/public/Depth?pair=ETHUSDC'\n",
    "filename = 'orderbook.csv'\n",
    "interval = 15\n",
    "intervals = 98"
   ]
  },
  {
   "cell_type": "code",
   "execution_count": 63,
   "id": "44a3f73d-0ed6-4ef6-8ed1-06c88534dc09",
   "metadata": {
    "scrolled": true
   },
   "outputs": [
    {
     "name": "stdout",
     "output_type": "stream",
     "text": [
      "Data appended to orderbook.csv\n",
      "Data appended to orderbook.csv\n",
      "Data appended to orderbook.csv\n",
      "Data appended to orderbook.csv\n",
      "Data appended to orderbook.csv\n",
      "Data appended to orderbook.csv\n",
      "Data appended to orderbook.csv\n",
      "Data appended to orderbook.csv\n",
      "Data appended to orderbook.csv\n",
      "Data appended to orderbook.csv\n",
      "Data appended to orderbook.csv\n",
      "Data appended to orderbook.csv\n",
      "Data appended to orderbook.csv\n",
      "Data appended to orderbook.csv\n",
      "Data appended to orderbook.csv\n",
      "Data appended to orderbook.csv\n",
      "Data appended to orderbook.csv\n",
      "Data appended to orderbook.csv\n",
      "Data appended to orderbook.csv\n",
      "Data appended to orderbook.csv\n",
      "Data appended to orderbook.csv\n",
      "Data appended to orderbook.csv\n",
      "Data appended to orderbook.csv\n",
      "Data appended to orderbook.csv\n",
      "Data appended to orderbook.csv\n",
      "Data appended to orderbook.csv\n",
      "Data appended to orderbook.csv\n",
      "Data appended to orderbook.csv\n",
      "Data appended to orderbook.csv\n",
      "Data appended to orderbook.csv\n",
      "Data appended to orderbook.csv\n",
      "Data appended to orderbook.csv\n",
      "Data appended to orderbook.csv\n",
      "Data appended to orderbook.csv\n",
      "Data appended to orderbook.csv\n",
      "Data appended to orderbook.csv\n",
      "Data appended to orderbook.csv\n",
      "Data appended to orderbook.csv\n",
      "Data appended to orderbook.csv\n",
      "Data appended to orderbook.csv\n",
      "Data appended to orderbook.csv\n",
      "Data appended to orderbook.csv\n",
      "Data appended to orderbook.csv\n",
      "Data appended to orderbook.csv\n",
      "Data appended to orderbook.csv\n",
      "Data appended to orderbook.csv\n",
      "Data appended to orderbook.csv\n",
      "Data appended to orderbook.csv\n",
      "Data appended to orderbook.csv\n",
      "Data appended to orderbook.csv\n",
      "Data appended to orderbook.csv\n",
      "Data appended to orderbook.csv\n",
      "Data appended to orderbook.csv\n",
      "Data appended to orderbook.csv\n",
      "Data appended to orderbook.csv\n",
      "Data appended to orderbook.csv\n",
      "Data appended to orderbook.csv\n",
      "Data appended to orderbook.csv\n",
      "Data appended to orderbook.csv\n",
      "Data appended to orderbook.csv\n",
      "Data appended to orderbook.csv\n",
      "Data appended to orderbook.csv\n",
      "Data appended to orderbook.csv\n",
      "Data appended to orderbook.csv\n",
      "Data appended to orderbook.csv\n",
      "Data appended to orderbook.csv\n",
      "Data appended to orderbook.csv\n",
      "Data appended to orderbook.csv\n",
      "Data appended to orderbook.csv\n",
      "Data appended to orderbook.csv\n",
      "Data appended to orderbook.csv\n",
      "Data appended to orderbook.csv\n",
      "Data appended to orderbook.csv\n",
      "Data appended to orderbook.csv\n",
      "Data appended to orderbook.csv\n",
      "Data appended to orderbook.csv\n",
      "Data appended to orderbook.csv\n",
      "Data appended to orderbook.csv\n",
      "Data appended to orderbook.csv\n",
      "Data appended to orderbook.csv\n",
      "Data appended to orderbook.csv\n",
      "Data appended to orderbook.csv\n",
      "Data appended to orderbook.csv\n",
      "Data appended to orderbook.csv\n",
      "Data appended to orderbook.csv\n",
      "Data appended to orderbook.csv\n",
      "Data appended to orderbook.csv\n",
      "Data appended to orderbook.csv\n",
      "Data appended to orderbook.csv\n",
      "Data appended to orderbook.csv\n",
      "Data appended to orderbook.csv\n",
      "Data appended to orderbook.csv\n",
      "Data appended to orderbook.csv\n",
      "Data appended to orderbook.csv\n",
      "Data appended to orderbook.csv\n",
      "Data appended to orderbook.csv\n",
      "Data appended to orderbook.csv\n",
      "Data appended to orderbook.csv\n"
     ]
    }
   ],
   "source": [
    "main(URL, filename, interval, intervals)"
   ]
  },
  {
   "cell_type": "code",
   "execution_count": 37,
   "id": "979c8fe5-2ed3-4364-8e4a-c20c363347c3",
   "metadata": {},
   "outputs": [],
   "source": [
    "def fetch_data(url):\n",
    "    response = requests.get(url)\n",
    "    if response.status_code == 200:\n",
    "        return response.json()['result']['ETHUSDC']\n",
    "    else:\n",
    "        print(f\"Failed to fetch data from {url}\")\n",
    "        return None"
   ]
  },
  {
   "cell_type": "code",
   "execution_count": 38,
   "id": "0fa17f2b-d494-4fe3-986f-dfd84545370d",
   "metadata": {},
   "outputs": [],
   "source": [
    "def add_timestamp(data):\n",
    "    data['timestamp'] = int(time.time())\n",
    "    return data"
   ]
  },
  {
   "cell_type": "code",
   "execution_count": 60,
   "id": "2e7b42af-223a-451c-81b3-61d810c6a15e",
   "metadata": {},
   "outputs": [],
   "source": [
    "def save_to_csv(data, filename):\n",
    "    if data:\n",
    "        keys = data.keys() if data else []\n",
    "        with open(filename, 'a', newline='') as csvfile:\n",
    "            writer = csv.DictWriter(csvfile, fieldnames=keys)\n",
    "            if csvfile.tell() == 0:\n",
    "                writer.writeheader()\n",
    "            writer.writerow(data)\n",
    "        print(f\"Data appended to {filename}\")\n",
    "    else:\n",
    "        print(\"No data to save\")"
   ]
  },
  {
   "cell_type": "code",
   "execution_count": 45,
   "id": "c0d79181-ddf1-4728-946e-5c3dc7e09975",
   "metadata": {},
   "outputs": [],
   "source": [
    "def main(url, filename, interval, intervals):\n",
    "    while intervals > 0:\n",
    "        # Fetch data from the API\n",
    "        data = fetch_data(url)\n",
    "\n",
    "        # Add a timestamp for when we all the data\n",
    "        data = add_timestamp(data)\n",
    "\n",
    "        # Save data to CSV\n",
    "        save_to_csv(data, filename)\n",
    "\n",
    "        # Wait for the next interval\n",
    "        intervals -= 1\n",
    "        time.sleep(interval)"
   ]
  },
  {
   "cell_type": "code",
   "execution_count": null,
   "id": "cef73edd-0e64-406b-a7be-4c2acf78e1f1",
   "metadata": {},
   "outputs": [],
   "source": []
  }
 ],
 "metadata": {
  "kernelspec": {
   "display_name": "Python 3 (ipykernel)",
   "language": "python",
   "name": "python3"
  },
  "language_info": {
   "codemirror_mode": {
    "name": "ipython",
    "version": 3
   },
   "file_extension": ".py",
   "mimetype": "text/x-python",
   "name": "python",
   "nbconvert_exporter": "python",
   "pygments_lexer": "ipython3",
   "version": "3.11.5"
  }
 },
 "nbformat": 4,
 "nbformat_minor": 5
}
