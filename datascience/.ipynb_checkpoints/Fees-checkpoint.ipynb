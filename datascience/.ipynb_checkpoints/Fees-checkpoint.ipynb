{
 "cells": [
  {
   "cell_type": "markdown",
   "id": "48f59b6d-70fe-4760-8005-6c74429496d0",
   "metadata": {},
   "source": [
    " Fee Investigation\n",
    "\n",
    " Uniswap charges flat fee structures in V3, either 1bp, 5bps, 30bps, or more. Uniswap V2 charged about 15bps. We are investigating how much we can shrink fees in times of lower volatility or smaller trades"
   ]
  },
  {
   "cell_type": "code",
   "execution_count": 1,
   "id": "f5462d8a-7fc3-430d-9041-0262014af8ba",
   "metadata": {},
   "outputs": [],
   "source": [
    "import pandas as pd\n",
    "import numpy as np\n",
    "import requests"
   ]
  },
  {
   "cell_type": "code",
   "execution_count": 7,
   "id": "61a436b0-6a88-46ef-bfdd-ef39c4e4988d",
   "metadata": {},
   "outputs": [],
   "source": [
    "resp = requests.get('https://api.kraken.com/0/public/Depth?pair=ETHUSDC')"
   ]
  },
  {
   "cell_type": "code",
   "execution_count": 45,
   "id": "28b47310-ef79-4e9b-9af8-9398f4b58e90",
   "metadata": {},
   "outputs": [
    {
     "data": {
      "text/plain": [
       "200"
      ]
     },
     "execution_count": 45,
     "metadata": {},
     "output_type": "execute_result"
    }
   ],
   "source": [
    "resp.status_code"
   ]
  },
  {
   "cell_type": "code",
   "execution_count": 21,
   "id": "cb2fcf30-dcba-43d4-b018-37c10ec98c58",
   "metadata": {},
   "outputs": [],
   "source": [
    "data = resp.json()['result']['ETHUSDC']"
   ]
  },
  {
   "cell_type": "code",
   "execution_count": 26,
   "id": "3ed8ed04-84f4-4d14-9395-8ec9b7c32453",
   "metadata": {},
   "outputs": [
    {
     "data": {
      "text/plain": [
       "[['3682.980000', '0.009', 1710588935],\n",
       " ['3683.310000', '1.075', 1710588935],\n",
       " ['3683.720000', '0.549', 1710588935]]"
      ]
     },
     "execution_count": 26,
     "metadata": {},
     "output_type": "execute_result"
    }
   ],
   "source": [
    "asks = data['asks']\n",
    "asks[:3][:3]"
   ]
  },
  {
   "cell_type": "code",
   "execution_count": 27,
   "id": "122876ec-ccef-4727-9d29-e42cbe4106d8",
   "metadata": {},
   "outputs": [
    {
     "data": {
      "text/plain": [
       "[['3682.630000', '0.549', 1710588936],\n",
       " ['3682.420000', '1.358', 1710588936],\n",
       " ['3681.700000', '0.650', 1710588935]]"
      ]
     },
     "execution_count": 27,
     "metadata": {},
     "output_type": "execute_result"
    }
   ],
   "source": [
    "bids = data['bids']\n",
    "bids[:3][:3]"
   ]
  },
  {
   "cell_type": "code",
   "execution_count": 33,
   "id": "d7046625-0883-401f-b4f1-3bfea012199a",
   "metadata": {},
   "outputs": [
    {
     "data": {
      "text/plain": [
       "'3682.980000'"
      ]
     },
     "execution_count": 33,
     "metadata": {},
     "output_type": "execute_result"
    }
   ],
   "source": [
    "asks[0][0]"
   ]
  },
  {
   "cell_type": "code",
   "execution_count": 34,
   "id": "ab6630f5-b4c2-44dc-876e-bb9d7efc71d9",
   "metadata": {},
   "outputs": [],
   "source": [
    "spread = float(asks[0][0])-float(bids[0][0])"
   ]
  },
  {
   "cell_type": "code",
   "execution_count": 35,
   "id": "6752b911-04bf-4878-98a1-1361b987f90d",
   "metadata": {},
   "outputs": [
    {
     "data": {
      "text/plain": [
       "0.34999999999990905"
      ]
     },
     "execution_count": 35,
     "metadata": {},
     "output_type": "execute_result"
    }
   ],
   "source": [
    "spread"
   ]
  },
  {
   "cell_type": "code",
   "execution_count": 60,
   "id": "e46b44e1-428c-49a8-b7c4-04b69d7353d5",
   "metadata": {},
   "outputs": [],
   "source": [
    "def get_vol()->float:\n",
    "    oracle_realized_vol = 18446744073709559613\n",
    "    return oracle_realized_vol*1e-18\n",
    "\n",
    "def get_market_price()->float:\n",
    "    return 3702\n",
    "\n",
    "def get_trade_price()->float:\n",
    "    return 3701\n",
    "\n",
    "def get_trade_volume()->float:\n",
    "    return 0.5\n",
    "\n",
    "def get_is_buyer()-> bool:\n",
    "    'Is the trader a buyer (True) or a seller (False)'\n",
    "    return True\n",
    "\n",
    "def get_trade_reduces_gap()->bool:\n",
    "    'Returns if someone is trading against us to bring us closer to market price'\n",
    "    # \n",
    "    return ((get_trade_price() > get_market_price()) ^ get_is_buyer())"
   ]
  },
  {
   "cell_type": "markdown",
   "id": "7a4a2511-4355-42b7-95d7-577c324b7441",
   "metadata": {},
   "source": [
    "If our price > market price, a seller would move us closer to market price, get_trade_reduces_gap() is false\n",
    "If our price < market price, a seller would move us further from market price, get_trade_reduces_gap() is true"
   ]
  },
  {
   "cell_type": "code",
   "execution_count": 44,
   "id": "9996649e-271e-4d60-8492-d49c85134983",
   "metadata": {},
   "outputs": [
    {
     "data": {
      "text/plain": [
       "18.44674407370956"
      ]
     },
     "execution_count": 44,
     "metadata": {},
     "output_type": "execute_result"
    }
   ],
   "source": [
    "get_vol()"
   ]
  },
  {
   "cell_type": "code",
   "execution_count": 63,
   "id": "3cf49ac8-221a-4f71-9a5f-02ea0412a935",
   "metadata": {},
   "outputs": [
    {
     "data": {
      "text/plain": [
       "0.37"
      ]
     },
     "execution_count": 63,
     "metadata": {},
     "output_type": "execute_result"
    }
   ],
   "source": [
    "3700*0.01/100"
   ]
  },
  {
   "cell_type": "code",
   "execution_count": 68,
   "id": "55bde63d-9eb9-46fc-84e8-06059da90ce2",
   "metadata": {},
   "outputs": [],
   "source": [
    "def get_fee(volume: float,volatility: float,trade_reduces_gap: bool)->float:\n",
    "    volume_factor = 1\n",
    "    volatility_factor = 1\n",
    "    trade_reduces_gap_factor = 1\n",
    "    fee = (volume_factor*volume**0.5)*(volatility_factor*volatility)\n",
    "    # We reduce the fee for when trades bring us further from market because those tend to be more uninformed traders\n",
    "    if not trade_reduces_gap:\n",
    "        fee *= trade_reduces_gap_factor\n",
    "    return fee"
   ]
  },
  {
   "cell_type": "code",
   "execution_count": 69,
   "id": "33b97697-86c2-47a1-aa11-0997a4a3845d",
   "metadata": {},
   "outputs": [
    {
     "data": {
      "text/plain": [
       "13.04381782533279"
      ]
     },
     "execution_count": 69,
     "metadata": {},
     "output_type": "execute_result"
    }
   ],
   "source": [
    "get_fee(get_trade_volume(), get_vol(), get_trade_reduces_gap())"
   ]
  },
  {
   "cell_type": "code",
   "execution_count": null,
   "id": "f756cce3-77d6-4315-9e2f-30d9397bb8ff",
   "metadata": {},
   "outputs": [],
   "source": []
  }
 ],
 "metadata": {
  "kernelspec": {
   "display_name": "Python 3 (ipykernel)",
   "language": "python",
   "name": "python3"
  },
  "language_info": {
   "codemirror_mode": {
    "name": "ipython",
    "version": 3
   },
   "file_extension": ".py",
   "mimetype": "text/x-python",
   "name": "python",
   "nbconvert_exporter": "python",
   "pygments_lexer": "ipython3",
   "version": "3.11.5"
  }
 },
 "nbformat": 4,
 "nbformat_minor": 5
}
