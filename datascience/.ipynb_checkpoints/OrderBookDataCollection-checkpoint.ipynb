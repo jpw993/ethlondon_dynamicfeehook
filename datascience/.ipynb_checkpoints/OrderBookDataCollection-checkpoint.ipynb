{
 "cells": [
  {
   "cell_type": "markdown",
   "id": "12359c56-872b-4429-87ec-4aef279546ea",
   "metadata": {},
   "source": [
    "Order Book Data Collection\n",
    "\n",
    "Currently there isn't a source of free spot order book data. We need a sample in order to get a sense of what the order book looks like to best calibrate our fee pricing"
   ]
  },
  {
   "cell_type": "code",
   "execution_count": 5,
   "id": "b70d8f08-8da9-4052-aa93-96a8e8bec263",
   "metadata": {},
   "outputs": [],
   "source": [
    "import requests\n",
    "import datetime as dt\n",
    "import csv\n",
    "import time"
   ]
  },
  {
   "cell_type": "code",
   "execution_count": 46,
   "id": "df9c7623-f939-4823-b5e6-ee04b26b0915",
   "metadata": {},
   "outputs": [],
   "source": [
    "URL = 'https://api.kraken.com/0/public/Depth?pair=ETHUSDC'\n",
    "filename = 'orderbook.csv'\n",
    "interval = 15\n",
    "intervals = 2"
   ]
  },
  {
   "cell_type": "code",
   "execution_count": 47,
   "id": "cb008ffc-e663-4f3a-8d69-69d55c1d54a3",
   "metadata": {},
   "outputs": [],
   "source": [
    "test = fetch_data(URL)"
   ]
  },
  {
   "cell_type": "code",
   "execution_count": 50,
   "id": "c5bf9758-5328-4710-9572-4578eee89089",
   "metadata": {},
   "outputs": [
    {
     "ename": "AttributeError",
     "evalue": "'str' object has no attribute 'keys'",
     "output_type": "error",
     "traceback": [
      "\u001b[0;31m---------------------------------------------------------------------------\u001b[0m",
      "\u001b[0;31mAttributeError\u001b[0m                            Traceback (most recent call last)",
      "Cell \u001b[0;32mIn[50], line 1\u001b[0m\n\u001b[0;32m----> 1\u001b[0m save_to_csv(test, filename)\n",
      "Cell \u001b[0;32mIn[39], line 9\u001b[0m, in \u001b[0;36msave_to_csv\u001b[0;34m(data, filename)\u001b[0m\n\u001b[1;32m      7\u001b[0m             writer\u001b[38;5;241m.\u001b[39mwriteheader()\n\u001b[1;32m      8\u001b[0m         \u001b[38;5;28;01mfor\u001b[39;00m item \u001b[38;5;129;01min\u001b[39;00m data:\n\u001b[0;32m----> 9\u001b[0m             writer\u001b[38;5;241m.\u001b[39mwriterow(item)\n\u001b[1;32m     10\u001b[0m     \u001b[38;5;28mprint\u001b[39m(\u001b[38;5;124mf\u001b[39m\u001b[38;5;124m\"\u001b[39m\u001b[38;5;124mData appended to \u001b[39m\u001b[38;5;132;01m{\u001b[39;00mfilename\u001b[38;5;132;01m}\u001b[39;00m\u001b[38;5;124m\"\u001b[39m)\n\u001b[1;32m     11\u001b[0m \u001b[38;5;28;01melse\u001b[39;00m:\n",
      "File \u001b[0;32m/opt/homebrew/Caskroom/miniconda/base/envs/datascience/lib/python3.11/csv.py:154\u001b[0m, in \u001b[0;36mDictWriter.writerow\u001b[0;34m(self, rowdict)\u001b[0m\n\u001b[1;32m    153\u001b[0m \u001b[38;5;28;01mdef\u001b[39;00m \u001b[38;5;21mwriterow\u001b[39m(\u001b[38;5;28mself\u001b[39m, rowdict):\n\u001b[0;32m--> 154\u001b[0m     \u001b[38;5;28;01mreturn\u001b[39;00m \u001b[38;5;28mself\u001b[39m\u001b[38;5;241m.\u001b[39mwriter\u001b[38;5;241m.\u001b[39mwriterow(\u001b[38;5;28mself\u001b[39m\u001b[38;5;241m.\u001b[39m_dict_to_list(rowdict))\n",
      "File \u001b[0;32m/opt/homebrew/Caskroom/miniconda/base/envs/datascience/lib/python3.11/csv.py:147\u001b[0m, in \u001b[0;36mDictWriter._dict_to_list\u001b[0;34m(self, rowdict)\u001b[0m\n\u001b[1;32m    145\u001b[0m \u001b[38;5;28;01mdef\u001b[39;00m \u001b[38;5;21m_dict_to_list\u001b[39m(\u001b[38;5;28mself\u001b[39m, rowdict):\n\u001b[1;32m    146\u001b[0m     \u001b[38;5;28;01mif\u001b[39;00m \u001b[38;5;28mself\u001b[39m\u001b[38;5;241m.\u001b[39mextrasaction \u001b[38;5;241m==\u001b[39m \u001b[38;5;124m\"\u001b[39m\u001b[38;5;124mraise\u001b[39m\u001b[38;5;124m\"\u001b[39m:\n\u001b[0;32m--> 147\u001b[0m         wrong_fields \u001b[38;5;241m=\u001b[39m rowdict\u001b[38;5;241m.\u001b[39mkeys() \u001b[38;5;241m-\u001b[39m \u001b[38;5;28mself\u001b[39m\u001b[38;5;241m.\u001b[39mfieldnames\n\u001b[1;32m    148\u001b[0m         \u001b[38;5;28;01mif\u001b[39;00m wrong_fields:\n\u001b[1;32m    149\u001b[0m             \u001b[38;5;28;01mraise\u001b[39;00m \u001b[38;5;167;01mValueError\u001b[39;00m(\u001b[38;5;124m\"\u001b[39m\u001b[38;5;124mdict contains fields not in fieldnames: \u001b[39m\u001b[38;5;124m\"\u001b[39m\n\u001b[1;32m    150\u001b[0m                              \u001b[38;5;241m+\u001b[39m \u001b[38;5;124m\"\u001b[39m\u001b[38;5;124m, \u001b[39m\u001b[38;5;124m\"\u001b[39m\u001b[38;5;241m.\u001b[39mjoin([\u001b[38;5;28mrepr\u001b[39m(x) \u001b[38;5;28;01mfor\u001b[39;00m x \u001b[38;5;129;01min\u001b[39;00m wrong_fields]))\n",
      "\u001b[0;31mAttributeError\u001b[0m: 'str' object has no attribute 'keys'"
     ]
    }
   ],
   "source": [
    "save_to_csv(test, filename)"
   ]
  },
  {
   "cell_type": "code",
   "execution_count": 44,
   "id": "44a3f73d-0ed6-4ef6-8ed1-06c88534dc09",
   "metadata": {
    "scrolled": true
   },
   "outputs": [
    {
     "ename": "AttributeError",
     "evalue": "'str' object has no attribute 'keys'",
     "output_type": "error",
     "traceback": [
      "\u001b[0;31m---------------------------------------------------------------------------\u001b[0m",
      "\u001b[0;31mAttributeError\u001b[0m                            Traceback (most recent call last)",
      "Cell \u001b[0;32mIn[44], line 1\u001b[0m\n\u001b[0;32m----> 1\u001b[0m main(URL, filename, interval, intervals)\n",
      "Cell \u001b[0;32mIn[43], line 10\u001b[0m, in \u001b[0;36mmain\u001b[0;34m(url, filename, interval, intervals)\u001b[0m\n\u001b[1;32m      4\u001b[0m data \u001b[38;5;241m=\u001b[39m fetch_data(url)\n\u001b[1;32m      6\u001b[0m \u001b[38;5;66;03m# Add a timestamp for when we all the data\u001b[39;00m\n\u001b[1;32m      7\u001b[0m \u001b[38;5;66;03m# data = add_timestamp(data)\u001b[39;00m\n\u001b[1;32m      8\u001b[0m \n\u001b[1;32m      9\u001b[0m \u001b[38;5;66;03m# Save data to CSV\u001b[39;00m\n\u001b[0;32m---> 10\u001b[0m save_to_csv(data, filename)\n\u001b[1;32m     12\u001b[0m \u001b[38;5;66;03m# Wait for the next interval\u001b[39;00m\n\u001b[1;32m     13\u001b[0m intervals \u001b[38;5;241m-\u001b[39m\u001b[38;5;241m=\u001b[39m \u001b[38;5;241m1\u001b[39m\n",
      "Cell \u001b[0;32mIn[39], line 9\u001b[0m, in \u001b[0;36msave_to_csv\u001b[0;34m(data, filename)\u001b[0m\n\u001b[1;32m      7\u001b[0m             writer\u001b[38;5;241m.\u001b[39mwriteheader()\n\u001b[1;32m      8\u001b[0m         \u001b[38;5;28;01mfor\u001b[39;00m item \u001b[38;5;129;01min\u001b[39;00m data:\n\u001b[0;32m----> 9\u001b[0m             writer\u001b[38;5;241m.\u001b[39mwriterow(item)\n\u001b[1;32m     10\u001b[0m     \u001b[38;5;28mprint\u001b[39m(\u001b[38;5;124mf\u001b[39m\u001b[38;5;124m\"\u001b[39m\u001b[38;5;124mData appended to \u001b[39m\u001b[38;5;132;01m{\u001b[39;00mfilename\u001b[38;5;132;01m}\u001b[39;00m\u001b[38;5;124m\"\u001b[39m)\n\u001b[1;32m     11\u001b[0m \u001b[38;5;28;01melse\u001b[39;00m:\n",
      "File \u001b[0;32m/opt/homebrew/Caskroom/miniconda/base/envs/datascience/lib/python3.11/csv.py:154\u001b[0m, in \u001b[0;36mDictWriter.writerow\u001b[0;34m(self, rowdict)\u001b[0m\n\u001b[1;32m    153\u001b[0m \u001b[38;5;28;01mdef\u001b[39;00m \u001b[38;5;21mwriterow\u001b[39m(\u001b[38;5;28mself\u001b[39m, rowdict):\n\u001b[0;32m--> 154\u001b[0m     \u001b[38;5;28;01mreturn\u001b[39;00m \u001b[38;5;28mself\u001b[39m\u001b[38;5;241m.\u001b[39mwriter\u001b[38;5;241m.\u001b[39mwriterow(\u001b[38;5;28mself\u001b[39m\u001b[38;5;241m.\u001b[39m_dict_to_list(rowdict))\n",
      "File \u001b[0;32m/opt/homebrew/Caskroom/miniconda/base/envs/datascience/lib/python3.11/csv.py:147\u001b[0m, in \u001b[0;36mDictWriter._dict_to_list\u001b[0;34m(self, rowdict)\u001b[0m\n\u001b[1;32m    145\u001b[0m \u001b[38;5;28;01mdef\u001b[39;00m \u001b[38;5;21m_dict_to_list\u001b[39m(\u001b[38;5;28mself\u001b[39m, rowdict):\n\u001b[1;32m    146\u001b[0m     \u001b[38;5;28;01mif\u001b[39;00m \u001b[38;5;28mself\u001b[39m\u001b[38;5;241m.\u001b[39mextrasaction \u001b[38;5;241m==\u001b[39m \u001b[38;5;124m\"\u001b[39m\u001b[38;5;124mraise\u001b[39m\u001b[38;5;124m\"\u001b[39m:\n\u001b[0;32m--> 147\u001b[0m         wrong_fields \u001b[38;5;241m=\u001b[39m rowdict\u001b[38;5;241m.\u001b[39mkeys() \u001b[38;5;241m-\u001b[39m \u001b[38;5;28mself\u001b[39m\u001b[38;5;241m.\u001b[39mfieldnames\n\u001b[1;32m    148\u001b[0m         \u001b[38;5;28;01mif\u001b[39;00m wrong_fields:\n\u001b[1;32m    149\u001b[0m             \u001b[38;5;28;01mraise\u001b[39;00m \u001b[38;5;167;01mValueError\u001b[39;00m(\u001b[38;5;124m\"\u001b[39m\u001b[38;5;124mdict contains fields not in fieldnames: \u001b[39m\u001b[38;5;124m\"\u001b[39m\n\u001b[1;32m    150\u001b[0m                              \u001b[38;5;241m+\u001b[39m \u001b[38;5;124m\"\u001b[39m\u001b[38;5;124m, \u001b[39m\u001b[38;5;124m\"\u001b[39m\u001b[38;5;241m.\u001b[39mjoin([\u001b[38;5;28mrepr\u001b[39m(x) \u001b[38;5;28;01mfor\u001b[39;00m x \u001b[38;5;129;01min\u001b[39;00m wrong_fields]))\n",
      "\u001b[0;31mAttributeError\u001b[0m: 'str' object has no attribute 'keys'"
     ]
    }
   ],
   "source": [
    "main(URL, filename, interval, intervals)"
   ]
  },
  {
   "cell_type": "code",
   "execution_count": 37,
   "id": "979c8fe5-2ed3-4364-8e4a-c20c363347c3",
   "metadata": {},
   "outputs": [],
   "source": [
    "def fetch_data(url):\n",
    "    response = requests.get(url)\n",
    "    if response.status_code == 200:\n",
    "        return response.json()['result']['ETHUSDC']\n",
    "    else:\n",
    "        print(f\"Failed to fetch data from {url}\")\n",
    "        return None"
   ]
  },
  {
   "cell_type": "code",
   "execution_count": 38,
   "id": "0fa17f2b-d494-4fe3-986f-dfd84545370d",
   "metadata": {},
   "outputs": [],
   "source": [
    "def add_timestamp(data):\n",
    "    data['timestamp'] = int(time.time())\n",
    "    return data"
   ]
  },
  {
   "cell_type": "code",
   "execution_count": 51,
   "id": "05c102eb-8b11-425a-bfb4-6ab72abbbeab",
   "metadata": {},
   "outputs": [
    {
     "name": "stdout",
     "output_type": "stream",
     "text": [
      "asks\n",
      "bids\n",
      "timestamp\n"
     ]
    }
   ],
   "source": [
    "for item in test:\n",
    "    print(item)"
   ]
  },
  {
   "cell_type": "code",
   "execution_count": 52,
   "id": "bba7827e-d1af-472a-852f-4702ef9ed7fe",
   "metadata": {},
   "outputs": [
    {
     "name": "stdout",
     "output_type": "stream",
     "text": [
      "Object `writer` not found.\n"
     ]
    }
   ],
   "source": [
    "writer = csv.DictWriter(csv"
   ]
  },
  {
   "cell_type": "code",
   "execution_count": 39,
   "id": "2e7b42af-223a-451c-81b3-61d810c6a15e",
   "metadata": {},
   "outputs": [],
   "source": [
    "def save_to_csv(data, filename):\n",
    "    if data:\n",
    "        keys = data.keys() if data else []\n",
    "        with open(filename, 'a', newline='') as csvfile:\n",
    "            writer = csv.DictWriter(csvfile, fieldnames=keys)\n",
    "            if csvfile.tell() == 0:\n",
    "                writer.writeheader()\n",
    "            for item in data:\n",
    "                writer.writerow(item)\n",
    "        print(f\"Data appended to {filename}\")\n",
    "    else:\n",
    "        print(\"No data to save\")"
   ]
  },
  {
   "cell_type": "code",
   "execution_count": 45,
   "id": "c0d79181-ddf1-4728-946e-5c3dc7e09975",
   "metadata": {},
   "outputs": [],
   "source": [
    "def main(url, filename, interval, intervals):\n",
    "    while intervals > 0:\n",
    "        # Fetch data from the API\n",
    "        data = fetch_data(url)\n",
    "\n",
    "        # Add a timestamp for when we all the data\n",
    "        data = add_timestamp(data)\n",
    "\n",
    "        # Save data to CSV\n",
    "        save_to_csv(data, filename)\n",
    "\n",
    "        # Wait for the next interval\n",
    "        intervals -= 1\n",
    "        time.sleep(interval)"
   ]
  },
  {
   "cell_type": "code",
   "execution_count": null,
   "id": "867a69bf-e506-47a7-871c-4d89739e6547",
   "metadata": {},
   "outputs": [],
   "source": []
  },
  {
   "cell_type": "code",
   "execution_count": 55,
   "id": "04073e81-57eb-4bf2-be61-4c68f38fd7b9",
   "metadata": {},
   "outputs": [
    {
     "name": "stdout",
     "output_type": "stream",
     "text": [
      "JSON data has been successfully saved to CSV.\n"
     ]
    }
   ],
   "source": [
    "import json\n",
    "import csv\n",
    "\n",
    "# Sample JSON object\n",
    "json_data = [\n",
    "    {\"name\": \"John\", \"age\": 30, \"city\": \"New York\"},\n",
    "    {\"name\": \"Alice\", \"age\": 25, \"city\": \"Los Angeles\"},\n",
    "    {\"name\": \"Bob\", \"age\": 35, \"city\": \"Chicago\"}\n",
    "]\n",
    "\n",
    "# Define the path to the CSV file\n",
    "csv_file_path = \"data.csv\"\n",
    "\n",
    "# Extracting headers from the JSON object\n",
    "headers = json_data[0].keys()\n",
    "\n",
    "# Writing JSON data to a CSV file\n",
    "with open(csv_file_path, \"w\", newline=\"\") as csvfile:\n",
    "    writer = csv.DictWriter(csvfile, fieldnames=headers)\n",
    "    \n",
    "    # Write the header row\n",
    "    writer.writeheader()\n",
    "    \n",
    "    # Write each JSON object as a row in the CSV file\n",
    "    for data in json_data:\n",
    "        writer.writerow(data)\n",
    "\n",
    "print(\"JSON data has been successfully saved to CSV.\")\n"
   ]
  },
  {
   "cell_type": "code",
   "execution_count": null,
   "id": "2e735a45-b4b9-4796-a786-ad816726f3d2",
   "metadata": {},
   "outputs": [],
   "source": []
  },
  {
   "cell_type": "code",
   "execution_count": null,
   "id": "cef73edd-0e64-406b-a7be-4c2acf78e1f1",
   "metadata": {},
   "outputs": [],
   "source": []
  }
 ],
 "metadata": {
  "kernelspec": {
   "display_name": "Python 3 (ipykernel)",
   "language": "python",
   "name": "python3"
  },
  "language_info": {
   "codemirror_mode": {
    "name": "ipython",
    "version": 3
   },
   "file_extension": ".py",
   "mimetype": "text/x-python",
   "name": "python",
   "nbconvert_exporter": "python",
   "pygments_lexer": "ipython3",
   "version": "3.11.5"
  }
 },
 "nbformat": 4,
 "nbformat_minor": 5
}
